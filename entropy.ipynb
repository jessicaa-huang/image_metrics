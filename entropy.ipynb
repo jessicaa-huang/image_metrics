{
 "cells": [
  {
   "cell_type": "code",
   "execution_count": 2,
   "metadata": {},
   "outputs": [],
   "source": [
    "import spatialoverlap as S\n",
    "import os\n",
    "import numpy as np\n",
    "import cv2\n",
    "import matplotlib.pyplot as plt"
   ]
  },
  {
   "cell_type": "code",
   "execution_count": 3,
   "metadata": {},
   "outputs": [
    {
     "data": {
      "text/plain": [
       "7.340107901836381"
      ]
     },
     "execution_count": 3,
     "metadata": {},
     "output_type": "execute_result"
    }
   ],
   "source": [
    "img = cv2.imread(\"University-Release/train/drone/0839/image-25.jpeg\")\n",
    "S.compute_image_entropy(img)"
   ]
  },
  {
   "cell_type": "code",
   "execution_count": 4,
   "metadata": {},
   "outputs": [
    {
     "name": "stdout",
     "output_type": "stream",
     "text": [
      "[7.296421918357552, 7.2948819568440655, 7.2668340707524255, 7.252673913145658, 7.26231083162709, 7.206283969434135, 7.199408359743021, 7.201030275417127, 7.211369537879714, 7.232565848200588, 7.22449363622102, 7.279472858272226, 7.325117658617284, 7.303934200536779, 7.336170730233701, 7.3270614705790456, 7.437561346691441, 7.294095525821264, 7.261724440073788, 7.218582756516286, 7.296227609888658, 7.281534294105141, 7.226454655666763, 7.186280582849519, 7.212215972217428, 7.200453228597061, 7.094109134554387, 7.179900355306511, 7.1859893458958535, 7.217274616194105, 7.3065665496590455, 7.347525751420621, 7.298286998563074, 7.464847783586742, 7.47262776815122, 7.385662974075399, 7.376588694861624, 7.236190214122167, 7.336403368157569, 7.336500944617958, 7.294181742238993, 7.203885439271759, 7.24225061169523, 7.209514602324218, 7.203492899745055, 7.174158158000601, 7.1981934977132145, 7.258517915264653, 7.349017620793525, 7.4269881074042, 7.468309397674364, 7.4481166904587255, 7.404224890340766, 7.37080298644479]\n"
     ]
    }
   ],
   "source": [
    "entropy_map = {}\n",
    "entropy_only = []\n",
    "dataset = \"0842\"\n",
    "maindir = f\"University-Release/train/drone/{dataset}\"\n",
    "\n",
    "for image in os.listdir(maindir):\n",
    "    full_path = f\"{maindir}/{image}\"\n",
    "    readimg = cv2.imread(full_path)\n",
    "    res = S.compute_image_entropy(readimg)\n",
    "    entropy_map[dataset] = res\n",
    "    entropy_only.append(res)\n",
    "print(entropy_only)"
   ]
  },
  {
   "cell_type": "code",
   "execution_count": 5,
   "metadata": {},
   "outputs": [
    {
     "data": {
      "image/png": "[encoded data removed]",
      "text/plain": [
       "<Figure size 800x600 with 1 Axes>"
      ]
     },
     "metadata": {},
     "output_type": "display_data"
    }
   ],
   "source": [
    "plt.figure(figsize=(8, 6))\n",
    "plt.hist(entropy_only)\n",
    "plt.show()"
   ]
  },
  {
   "cell_type": "code",
   "execution_count": 13,
   "metadata": {},
   "outputs": [
    {
     "data": {
      "text/plain": [
       "7.163289783329453"
      ]
     },
     "execution_count": 13,
     "metadata": {},
     "output_type": "execute_result"
    }
   ],
   "source": [
    "img = cv2.imread(\"University-Release/train/drone/0839/image-01.jpeg\")\n",
    "S.compute_image_entropy(img)"
   ]
  },
  {
   "cell_type": "code",
   "execution_count": 15,
   "metadata": {},
   "outputs": [
    {
     "name": "stdout",
     "output_type": "stream",
     "text": [
      "Plot saved to plots/entropy\\0839_entropy.png\n",
      "Plot saved to plots/entropy\\0842_entropy.png\n",
      "Plot saved to plots/entropy\\0843_entropy.png\n",
      "Plot saved to plots/entropy\\0844_entropy.png\n",
      "Plot saved to plots/entropy\\0845_entropy.png\n",
      "Plot saved to plots/entropy\\0846_entropy.png\n",
      "Plot saved to plots/entropy\\0847_entropy.png\n",
      "Plot saved to plots/entropy\\0849_entropy.png\n",
      "Plot saved to plots/entropy\\0850_entropy.png\n",
      "Plot saved to plots/entropy\\0852_entropy.png\n",
      "Plot saved to plots/entropy\\0854_entropy.png\n",
      "Plot saved to plots/entropy\\0855_entropy.png\n",
      "Plot saved to plots/entropy\\0856_entropy.png\n",
      "Plot saved to plots/entropy\\0857_entropy.png\n",
      "Plot saved to plots/entropy\\0859_entropy.png\n",
      "Plot saved to plots/entropy\\0862_entropy.png\n",
      "Plot saved to plots/entropy\\0864_entropy.png\n",
      "Plot saved to plots/entropy\\0865_entropy.png\n",
      "Plot saved to plots/entropy\\0866_entropy.png\n",
      "Plot saved to plots/entropy\\0867_entropy.png\n",
      "Plot saved to plots/entropy\\0868_entropy.png\n",
      "Plot saved to plots/entropy\\0869_entropy.png\n",
      "Plot saved to plots/entropy\\0870_entropy.png\n",
      "Plot saved to plots/entropy\\0871_entropy.png\n",
      "Plot saved to plots/entropy\\0872_entropy.png\n",
      "Plot saved to plots/entropy\\0875_entropy.png\n",
      "Plot saved to plots/entropy\\0876_entropy.png\n",
      "Plot saved to plots/entropy\\0877_entropy.png\n",
      "Plot saved to plots/entropy\\0879_entropy.png\n",
      "Plot saved to plots/entropy\\0880_entropy.png\n",
      "Plot saved to plots/entropy\\0881_entropy.png\n",
      "Plot saved to plots/entropy\\0882_entropy.png\n",
      "Plot saved to plots/entropy\\0883_entropy.png\n",
      "Plot saved to plots/entropy\\0884_entropy.png\n",
      "Plot saved to plots/entropy\\0885_entropy.png\n",
      "Plot saved to plots/entropy\\0886_entropy.png\n",
      "Plot saved to plots/entropy\\0887_entropy.png\n",
      "Plot saved to plots/entropy\\0888_entropy.png\n",
      "Plot saved to plots/entropy\\0889_entropy.png\n",
      "Plot saved to plots/entropy\\0890_entropy.png\n",
      "Plot saved to plots/entropy\\0891_entropy.png\n",
      "Plot saved to plots/entropy\\0892_entropy.png\n",
      "Plot saved to plots/entropy\\0893_entropy.png\n",
      "Plot saved to plots/entropy\\0895_entropy.png\n",
      "Plot saved to plots/entropy\\0896_entropy.png\n",
      "Plot saved to plots/entropy\\0898_entropy.png\n",
      "Plot saved to plots/entropy\\0900_entropy.png\n",
      "Plot saved to plots/entropy\\0901_entropy.png\n",
      "Plot saved to plots/entropy\\0902_entropy.png\n",
      "Plot saved to plots/entropy\\0904_entropy.png\n",
      "Plot saved to plots/entropy\\0905_entropy.png\n",
      "Plot saved to plots/entropy\\0906_entropy.png\n",
      "Plot saved to plots/entropy\\0907_entropy.png\n",
      "Plot saved to plots/entropy\\0908_entropy.png\n",
      "Plot saved to plots/entropy\\0909_entropy.png\n",
      "Plot saved to plots/entropy\\0910_entropy.png\n",
      "Plot saved to plots/entropy\\0912_entropy.png\n",
      "Plot saved to plots/entropy\\0913_entropy.png\n",
      "Plot saved to plots/entropy\\0914_entropy.png\n",
      "Plot saved to plots/entropy\\0915_entropy.png\n",
      "Plot saved to plots/entropy\\0916_entropy.png\n",
      "Plot saved to plots/entropy\\0917_entropy.png\n",
      "Plot saved to plots/entropy\\0918_entropy.png\n",
      "Plot saved to plots/entropy\\0921_entropy.png\n",
      "Plot saved to plots/entropy\\0922_entropy.png\n",
      "Plot saved to plots/entropy\\0924_entropy.png\n",
      "Plot saved to plots/entropy\\0925_entropy.png\n",
      "Plot saved to plots/entropy\\0926_entropy.png\n",
      "Plot saved to plots/entropy\\0927_entropy.png\n",
      "Plot saved to plots/entropy\\0928_entropy.png\n",
      "Plot saved to plots/entropy\\0930_entropy.png\n",
      "Plot saved to plots/entropy\\0931_entropy.png\n",
      "Plot saved to plots/entropy\\0932_entropy.png\n",
      "Plot saved to plots/entropy\\0933_entropy.png\n",
      "Plot saved to plots/entropy\\0934_entropy.png\n",
      "Plot saved to plots/entropy\\0935_entropy.png\n",
      "Plot saved to plots/entropy\\0936_entropy.png\n",
      "Plot saved to plots/entropy\\0937_entropy.png\n",
      "Plot saved to plots/entropy\\0939_entropy.png\n",
      "Plot saved to plots/entropy\\0942_entropy.png\n",
      "Plot saved to plots/entropy\\0943_entropy.png\n",
      "Plot saved to plots/entropy\\0944_entropy.png\n",
      "Plot saved to plots/entropy\\0945_entropy.png\n",
      "Plot saved to plots/entropy\\0946_entropy.png\n",
      "Plot saved to plots/entropy\\0947_entropy.png\n",
      "Plot saved to plots/entropy\\0948_entropy.png\n",
      "Plot saved to plots/entropy\\0949_entropy.png\n",
      "Plot saved to plots/entropy\\0950_entropy.png\n",
      "Plot saved to plots/entropy\\0951_entropy.png\n",
      "Plot saved to plots/entropy\\0952_entropy.png\n",
      "Plot saved to plots/entropy\\0953_entropy.png\n",
      "Plot saved to plots/entropy\\0954_entropy.png\n",
      "Plot saved to plots/entropy\\0955_entropy.png\n",
      "Plot saved to plots/entropy\\0956_entropy.png\n",
      "Plot saved to plots/entropy\\0957_entropy.png\n",
      "Plot saved to plots/entropy\\0959_entropy.png\n",
      "Plot saved to plots/entropy\\0960_entropy.png\n",
      "Plot saved to plots/entropy\\0961_entropy.png\n",
      "Plot saved to plots/entropy\\0962_entropy.png\n",
      "Plot saved to plots/entropy\\0963_entropy.png\n",
      "Plot saved to plots/entropy\\0966_entropy.png\n",
      "Plot saved to plots/entropy\\0967_entropy.png\n",
      "Plot saved to plots/entropy\\0969_entropy.png\n",
      "Plot saved to plots/entropy\\0970_entropy.png\n",
      "Plot saved to plots/entropy\\0971_entropy.png\n",
      "Plot saved to plots/entropy\\0972_entropy.png\n",
      "Plot saved to plots/entropy\\0973_entropy.png\n",
      "Plot saved to plots/entropy\\0974_entropy.png\n",
      "Plot saved to plots/entropy\\0975_entropy.png\n",
      "Plot saved to plots/entropy\\0976_entropy.png\n",
      "Plot saved to plots/entropy\\0977_entropy.png\n",
      "Plot saved to plots/entropy\\0980_entropy.png\n",
      "Plot saved to plots/entropy\\0981_entropy.png\n",
      "Plot saved to plots/entropy\\0982_entropy.png\n",
      "Plot saved to plots/entropy\\0983_entropy.png\n",
      "Plot saved to plots/entropy\\0984_entropy.png\n",
      "Plot saved to plots/entropy\\0985_entropy.png\n",
      "Plot saved to plots/entropy\\0986_entropy.png\n",
      "Plot saved to plots/entropy\\0987_entropy.png\n",
      "Plot saved to plots/entropy\\0988_entropy.png\n",
      "Plot saved to plots/entropy\\0989_entropy.png\n",
      "Plot saved to plots/entropy\\0990_entropy.png\n",
      "Plot saved to plots/entropy\\0991_entropy.png\n",
      "Plot saved to plots/entropy\\0992_entropy.png\n",
      "Plot saved to plots/entropy\\0993_entropy.png\n",
      "Plot saved to plots/entropy\\0994_entropy.png\n",
      "Plot saved to plots/entropy\\0995_entropy.png\n",
      "Plot saved to plots/entropy\\0996_entropy.png\n",
      "Plot saved to plots/entropy\\0997_entropy.png\n",
      "Plot saved to plots/entropy\\0998_entropy.png\n",
      "Plot saved to plots/entropy\\0999_entropy.png\n",
      "Plot saved to plots/entropy\\1000_entropy.png\n",
      "Plot saved to plots/entropy\\1001_entropy.png\n",
      "Plot saved to plots/entropy\\1002_entropy.png\n",
      "Plot saved to plots/entropy\\1004_entropy.png\n",
      "Plot saved to plots/entropy\\1005_entropy.png\n",
      "Plot saved to plots/entropy\\1006_entropy.png\n",
      "Plot saved to plots/entropy\\1007_entropy.png\n",
      "Plot saved to plots/entropy\\1008_entropy.png\n",
      "Plot saved to plots/entropy\\1010_entropy.png\n",
      "Plot saved to plots/entropy\\1011_entropy.png\n",
      "Plot saved to plots/entropy\\1012_entropy.png\n",
      "Plot saved to plots/entropy\\1014_entropy.png\n",
      "Plot saved to plots/entropy\\1015_entropy.png\n",
      "Plot saved to plots/entropy\\1016_entropy.png\n",
      "Plot saved to plots/entropy\\1018_entropy.png\n",
      "Plot saved to plots/entropy\\1019_entropy.png\n",
      "Plot saved to plots/entropy\\1020_entropy.png\n",
      "Plot saved to plots/entropy\\1021_entropy.png\n",
      "Plot saved to plots/entropy\\1022_entropy.png\n",
      "Plot saved to plots/entropy\\1023_entropy.png\n",
      "Plot saved to plots/entropy\\1024_entropy.png\n",
      "Plot saved to plots/entropy\\1025_entropy.png\n",
      "Plot saved to plots/entropy\\1026_entropy.png\n",
      "Plot saved to plots/entropy\\1027_entropy.png\n",
      "Plot saved to plots/entropy\\1028_entropy.png\n",
      "Plot saved to plots/entropy\\1029_entropy.png\n",
      "Plot saved to plots/entropy\\1030_entropy.png\n",
      "Plot saved to plots/entropy\\1031_entropy.png\n",
      "Plot saved to plots/entropy\\1033_entropy.png\n",
      "Plot saved to plots/entropy\\1034_entropy.png\n",
      "Plot saved to plots/entropy\\1035_entropy.png\n",
      "Plot saved to plots/entropy\\1036_entropy.png\n",
      "Plot saved to plots/entropy\\1037_entropy.png\n",
      "Plot saved to plots/entropy\\1038_entropy.png\n",
      "Plot saved to plots/entropy\\1039_entropy.png\n",
      "Plot saved to plots/entropy\\1040_entropy.png\n",
      "Plot saved to plots/entropy\\1041_entropy.png\n",
      "Plot saved to plots/entropy\\1042_entropy.png\n",
      "Plot saved to plots/entropy\\1043_entropy.png\n",
      "Plot saved to plots/entropy\\1044_entropy.png\n",
      "Plot saved to plots/entropy\\1045_entropy.png\n",
      "Plot saved to plots/entropy\\1046_entropy.png\n",
      "Plot saved to plots/entropy\\1047_entropy.png\n",
      "Plot saved to plots/entropy\\1048_entropy.png\n",
      "Plot saved to plots/entropy\\1049_entropy.png\n",
      "Plot saved to plots/entropy\\1050_entropy.png\n",
      "Plot saved to plots/entropy\\1052_entropy.png\n",
      "Plot saved to plots/entropy\\1053_entropy.png\n",
      "Plot saved to plots/entropy\\1054_entropy.png\n"
     ]
    },
    {
     "ename": "KeyboardInterrupt",
     "evalue": "",
     "output_type": "error",
     "traceback": [
      "\u001b[1;31m---------------------------------------------------------------------------\u001b[0m",
      "\u001b[1;31mKeyboardInterrupt\u001b[0m                         Traceback (most recent call last)",
      "Cell \u001b[1;32mIn[15], line 9\u001b[0m\n\u001b[0;32m      7\u001b[0m \u001b[38;5;28;01mfor\u001b[39;00m imgNum \u001b[38;5;129;01min\u001b[39;00m os\u001b[38;5;241m.\u001b[39mlistdir(\u001b[38;5;124mf\u001b[39m\u001b[38;5;124m\"\u001b[39m\u001b[38;5;132;01m{\u001b[39;00msatellite_dir\u001b[38;5;132;01m}\u001b[39;00m\u001b[38;5;124m/\u001b[39m\u001b[38;5;132;01m{\u001b[39;00mdataset\u001b[38;5;132;01m}\u001b[39;00m\u001b[38;5;124m\"\u001b[39m):\n\u001b[0;32m      8\u001b[0m     full_path \u001b[38;5;241m=\u001b[39m \u001b[38;5;124mf\u001b[39m\u001b[38;5;124m\"\u001b[39m\u001b[38;5;132;01m{\u001b[39;00msatellite_dir\u001b[38;5;132;01m}\u001b[39;00m\u001b[38;5;124m/\u001b[39m\u001b[38;5;132;01m{\u001b[39;00mdataset\u001b[38;5;132;01m}\u001b[39;00m\u001b[38;5;124m/\u001b[39m\u001b[38;5;132;01m{\u001b[39;00mimgNum\u001b[38;5;132;01m}\u001b[39;00m\u001b[38;5;124m\"\u001b[39m\n\u001b[1;32m----> 9\u001b[0m     img \u001b[38;5;241m=\u001b[39m \u001b[43mcv2\u001b[49m\u001b[38;5;241;43m.\u001b[39;49m\u001b[43mimread\u001b[49m\u001b[43m(\u001b[49m\u001b[43mfull_path\u001b[49m\u001b[43m)\u001b[49m\n\u001b[0;32m     10\u001b[0m     entropy \u001b[38;5;241m=\u001b[39m S\u001b[38;5;241m.\u001b[39mcompute_image_entropy(img)\n\u001b[0;32m     11\u001b[0m     currResult\u001b[38;5;241m.\u001b[39mappend(entropy)\n",
      "\u001b[1;31mKeyboardInterrupt\u001b[0m: "
     ]
    }
   ],
   "source": [
    "entropy_map = {}\n",
    "entropy_only = []\n",
    "satellite_dir = \"University-Release/train/drone\"\n",
    "\n",
    "for dataset in os.listdir(satellite_dir):\n",
    "    currResult = []\n",
    "    for imgNum in os.listdir(f\"{satellite_dir}/{dataset}\"):\n",
    "        full_path = f\"{satellite_dir}/{dataset}/{imgNum}\"\n",
    "        img = cv2.imread(full_path)\n",
    "        entropy = S.compute_image_entropy(img)\n",
    "        currResult.append(entropy)\n",
    "\n",
    "    plt.figure(figsize=(8, 6))\n",
    "    plt.hist(currResult)\n",
    "    plt.title(f'Image Entropy ({dataset})')\n",
    "    plt.xlabel('Image Entropy')\n",
    "    plt.ylabel('Frequency')\n",
    "    # plt.switch_backend('Agg')\n",
    "\n",
    "    output_folder = \"plots/entropy\"\n",
    "    output_path = os.path.join(output_folder, f\"{dataset}_entropy.png\")\n",
    "    plt.savefig(output_path, dpi=300)\n",
    "    print(f\"Plot saved to {output_path}\")\n",
    "    plt.close()\n",
    "\n",
    "    entropy_map[dataset] = currResult\n",
    "    entropy_only.append(currResult)"
   ]
  }
 ],
 "metadata": {
  "kernelspec": {
   "display_name": "Python 3",
   "language": "python",
   "name": "python3"
  },
  "language_info": {
   "codemirror_mode": {
    "name": "ipython",
    "version": 3
   },
   "file_extension": ".py",
   "mimetype": "text/x-python",
   "name": "python",
   "nbconvert_exporter": "python",
   "pygments_lexer": "ipython3",
   "version": "3.12.4"
  }
 },
 "nbformat": 4,
 "nbformat_minor": 2
}
