{
 "cells": [
  {
   "cell_type": "code",
   "execution_count": 1,
   "metadata": {},
   "outputs": [],
   "source": [
    "# Import necessary libraries\n",
    "import os\n",
    "import cv2\n",
    "import matplotlib.pyplot as plt\n",
    "import kldivergence as KL  # Import your function"
   ]
  },
  {
   "cell_type": "code",
   "execution_count": 4,
   "metadata": {},
   "outputs": [
    {
     "name": "stderr",
     "output_type": "stream",
     "text": [
      "c:\\Users\\jessi\\Documents\\research\\image_metrics\\kldivergence.py:18: RuntimeWarning: divide by zero encountered in divide\n",
      "  kl_divergence = np.sum(np.where(hist1 != 0, hist1 * np.log(hist1 / hist2), 0))\n"
     ]
    },
    {
     "name": "stdout",
     "output_type": "stream",
     "text": [
      "[inf, 0.4680006, inf, inf, inf, inf, inf, inf, inf, inf, inf, inf, inf, inf, inf, inf, inf, inf, inf, 0.41758534, 0.3394813, inf, inf, inf, inf, inf, inf, inf, inf, inf, inf, inf, inf, inf, inf, inf, 0.5104189, inf, inf, inf, inf, inf, inf, inf, inf, inf, inf, inf, 0.3740306, inf, inf, inf, inf, inf]\n",
      "[inf, inf, inf, inf, inf, inf, inf, inf, inf, inf, inf, inf, inf, inf, inf, inf, inf, inf, inf, inf, inf, inf, inf, inf, inf, inf, inf, inf, inf, inf, inf, inf, inf, inf, inf, inf, inf, inf, inf, inf, inf, inf, inf, inf, inf, inf, inf, inf, inf, inf, inf, inf, inf, inf]\n",
      "[0.50908554, inf, inf, inf, inf, inf, inf, inf, inf, 0.4805687, inf, inf, inf, inf, 0.33867654, inf, inf, inf, 0.46020135, 0.44420987, inf, inf, 0.36444488, 0.3447754, inf, inf, inf, inf, inf, inf, inf, inf, inf, 0.43381438, inf, inf, 0.45114705, inf, 0.313725, inf, inf, 0.3236385, inf, inf, inf, inf, inf, inf, inf, inf, 0.30444023, 0.36332238, 0.4350516, 0.3864548]\n",
      "[inf, inf, inf, inf, inf, inf, inf, inf, 0.29100704, inf, inf, inf, inf, inf, inf, inf, inf, inf, inf, inf, inf, inf, inf, inf, inf, inf, inf, inf, inf, inf, inf, inf, 0.26954034, 0.30934003, inf, inf, inf, 0.3655237, inf, inf, inf, inf, inf, inf, inf, inf, 0.21967188, inf, inf, inf, 0.21271433, 0.25587225, inf, inf]\n",
      "[inf, inf, inf, inf, inf, inf, 0.26104495, inf, inf, inf, inf, inf, inf, inf, inf, inf, inf, inf, inf, 0.4291886, inf, inf, inf, inf, inf, inf, inf, inf, inf, inf, inf, inf, inf, 0.34739283, inf, inf, inf, inf, inf, inf, inf, inf, inf, 0.1830577, 0.19076933, 0.17720509, inf, inf, 0.24197565, 0.28268164, 0.281238, 0.3064927, 0.30303875, inf]\n",
      "[inf, inf, inf, inf, inf, inf, inf, inf, inf, inf, inf, inf, inf, inf, inf, inf, inf, inf, inf, inf, inf, inf, inf, inf, inf, inf, inf, inf, inf, inf, inf, inf, inf, inf, inf, inf, inf, inf, inf, inf, inf, inf, inf, inf, inf, inf, inf, inf, inf, inf, inf, inf, inf, inf]\n",
      "[inf, inf, inf, 0.24449918, inf, inf, inf, inf, inf, inf, 0.17440113, inf, inf, 0.31238833, inf, inf, inf, inf, 0.17657395, 0.19067705, inf, 0.2518032, 0.1514766, inf, inf, inf, inf, inf, inf, inf, inf, inf, 0.19825366, inf, inf, inf, 0.16959175, inf, 0.18664303, inf, 0.1539634, inf, 0.15307762, inf, inf, inf, inf, inf, 0.20320268, inf, inf, inf, inf, inf]\n",
      "[inf, inf, inf, inf, inf, inf, inf, inf, inf, inf, inf, inf, inf, inf, inf, inf, inf, inf, inf, inf, inf, inf, inf, inf, inf, inf, inf, inf, inf, inf, inf, inf, inf, inf, inf, inf, inf, inf, inf, inf, inf, inf, inf, inf, inf, inf, inf, inf, inf, inf, 0.23420165, inf, inf, inf]\n",
      "[inf, inf, inf, inf, inf, inf, inf, 0.1886285, inf, inf, inf, inf, inf, inf, 0.27452305, 0.28157592, inf, inf, inf, 0.23367101, inf, 0.27202737, inf, inf, 0.21253633, inf, inf, inf, inf, inf, inf, 0.3004443, inf, inf, 0.18689653, inf, 0.20245144, 0.1808434, 0.19555627, 0.1756111, 0.14196488, 0.15005404, 0.15111405, 0.17514536, 0.15570301, 0.12617606, 0.1279648, 0.17631455, 0.22083463, 0.17434993, 0.14757252, 0.17635897, 0.21459553, inf]\n",
      "[0.38694704, 0.3591264, 0.28931046, inf, inf, inf, inf, inf, inf, inf, 0.22528517, 0.23418553, inf, 0.30273357, 0.28413492, 0.3129757, 0.2872286, 0.32312548, inf, 0.29552874, 0.25405502, 0.24287099, inf, inf, inf, inf, inf, inf, 0.18246047, inf, 0.20353827, inf, 0.23166135, 0.27176714, 0.24271096, inf, inf, inf, inf, 0.26699364, 0.21376121, inf, 0.18015632, 0.151204, inf, inf, inf, inf, inf, inf, inf, inf, 0.40956613, inf]\n",
      "[inf, inf, inf, inf, inf, inf, inf, inf, inf, inf, inf, inf, inf, inf, inf, inf, inf, inf, inf, inf, inf, inf, inf, inf, inf, inf, inf, inf, inf, inf, inf, inf, inf, inf, inf, inf, inf, inf, inf, inf, inf, inf, inf, inf, inf, inf, 0.15662725, 0.21581611, 0.24140072, inf, 0.28191, 0.30566335, 0.3020058, inf]\n",
      "[inf, inf, inf, inf, inf, 0.47136033, 0.44663388, inf, inf, inf, 0.4839751, 0.48526776, inf, inf, inf, inf, inf, inf, inf, inf, inf, inf, inf, 0.44614694, inf, inf, inf, inf, inf, inf, inf, 0.33717588, inf, inf, inf, inf, inf, 0.48630357, inf, 0.38894925, inf, inf, 0.38648424, 0.45190388, inf, inf, 0.36411518, inf, inf, inf, inf, 0.31320584, 0.42764765, inf]\n",
      "[inf, inf, inf, 0.2946226, 0.23656145, 0.24721923, 0.21492423, inf, inf, inf, inf, 0.26172036, inf, inf, inf, inf, inf, 0.34371382, 0.29497927, 0.33747855, inf, inf, inf, 0.21014187, inf, inf, 0.24916029, inf, 0.23843259, inf, inf, inf, inf, 0.38563043, inf, 0.2989772, 0.31750515, inf, 0.28596988, inf, 0.20566253, 0.19955909, 0.18553245, inf, 0.23713686, inf, 0.20631093, inf, inf, inf, inf, 0.31564638, inf, 0.29678082]\n",
      "[inf, 0.0601489, inf, inf, inf, inf, inf, inf, 0.037460886, inf, inf, 0.049618058, 0.03721918, 0.036865026, 0.053760625, 0.078897595, 0.10268752, 0.091445155, 0.07700037, inf, inf, inf, 0.04613262, inf, inf, 0.033263132, 0.034559093, 0.036898244, 0.039142802, inf, 0.03879224, 0.04049868, 0.053552404, 0.1045313, 0.11898109, inf, 0.10891697, 0.08707598, 0.051295035, 0.037467696, inf, 0.04551162, 0.04383274, inf, inf, inf, 0.056439523, 0.06155941, 0.071550116, 0.07325294, 0.08819398, 0.12232111, 0.17192864, 0.18382345]\n",
      "[0.30849487, 0.256274, 0.25604492, 0.21668634, 0.21535, inf, 0.20924114, 0.21159194, 0.22601849, 0.20744632, 0.17957862, 0.17328048, inf, 0.20557351, 0.28241506, 0.36856353, 0.3950768, 0.31910354, 0.23856406, 0.24575952, 0.18184564, inf, 0.16702911, 0.16804257, 0.16739063, 0.16223563, 0.14926676, inf, 0.14904653, 0.191264, 0.14736964, 0.20826827, 0.2731428, 0.31153882, 0.33288, 0.25506142, 0.17200772, 0.21194139, 0.11445807, 0.15385546, inf, 0.16785246, 0.13073161, inf, 0.12146396, 0.28231674, 0.10823348, 0.11803167, 0.13175122, 0.1806052, 0.22527759, 0.32497266, 0.35648808, 0.22234368]\n",
      "[inf, 0.12559426, 0.107436165, inf, inf, 0.16764137, inf, 0.15471599, 0.1359724, 0.12899925, 0.11832796, 0.09320383, inf, 0.09861692, 0.122010015, inf, 0.21672082, 0.1421718, inf, 0.09143777, inf, 0.0816295, 0.07990555, 0.09578462, 0.1168789, inf, 0.097567394, 0.08867749, 0.093507975, inf, 0.058512222, 0.07715609, 0.15008059, 0.23510689, 0.20930189, 0.17663473, 0.16414165, inf, 0.06563329, 0.06291492, 0.073208, 0.08935565, 0.08057155, 0.10829671, inf, inf, 0.0880238, 0.075807065, 0.049129844, 0.060968634, 0.10155778, 0.18494362, inf, 0.16229725]\n",
      "[inf, 0.06991088, 0.07379382, inf, inf, inf, inf, 0.13542141, 0.15065236, 0.10487953, 0.09372422, 0.07528182, 0.09060329, inf, 0.13434015, 0.21892145, 0.19121087, 0.115964085, 0.053279374, 0.054023404, 0.06446463, 0.07794426, 0.079992, 0.08556618, 0.09458032, 0.11782895, 0.10698404, 0.111062594, 0.10537256, 0.09251361, 0.055371184, 0.07424094, 0.11786115, 0.17158443, 0.14355922, 0.09017065, 0.061049014, 0.064147, 0.06779165, 0.074407935, 0.088054776, 0.083909154, 0.087687746, 0.11831413, 0.14071143, inf, 0.10129305, 0.10944193, 0.08947912, 0.10634971, 0.08262025, 0.13340527, 0.1353561, 0.11082879]\n",
      "[inf, 0.08638886, 0.06749869, 0.086995654, inf, 0.13539411, 0.12738499, inf, inf, 0.12661038, 0.11918282, 0.11950115, 0.11292337, 0.14192897, 0.12495017, 0.17257874, 0.17247713, 0.13193294, 0.101162896, 0.07838272, 0.08864846, inf, 0.09831097, 0.13147058, 0.13884729, 0.12771712, 0.110001974, 0.093625724, 0.10341424, 0.091010496, 0.07872315, inf, 0.101053685, 0.16455144, 0.1470702, 0.11188002, 0.097714685, 0.07940991, 0.08376929, 0.09187521, 0.113539174, 0.13358776, 0.13023874, inf, 0.10102261, 0.090768695, 0.072791, 0.0662251, 0.099674694, inf, 0.12526062, 0.17107378, 0.15683629, 0.14096108]\n",
      "[0.23606078, 0.18970597, 0.13560417, 0.17104329, inf, 0.18490532, 0.16741371, 0.18083681, 0.16625062, 0.12845476, 0.111077935, 0.11667158, 0.1326473, inf, 0.2310226, 0.34250718, 0.27111545, 0.26652578, 0.20184147, 0.15764284, 0.13289782, 0.1451835, 0.14509988, 0.15821922, inf, 0.16123089, 0.11471595, 0.1251556, 0.14165601, 0.13443385, 0.14681661, 0.15463895, 0.21806836, 0.30993477, 0.3076226, 0.29616752, 0.23430121, 0.17296875, 0.14142779, 0.14151394, 0.15315376, 0.16492677, 0.15304945, 0.17264284, inf, 0.1428848, 0.14215264, 0.12662168, 0.14727208, 0.21383707, 0.28306937, 0.45530182, inf, 0.28281793]\n",
      "[0.09323859, 0.08842451, 0.10846946, 0.16117944, inf, 0.14474238, inf, inf, 0.08007915, inf, inf, 0.08234275, 0.0938676, 0.094319, 0.12365534, 0.19874528, 0.17048822, 0.12334095, inf, inf, 0.1336614, 0.16497377, inf, 0.17168002, inf, 0.09091508, 0.07060157, 0.080909684, 0.09825656, 0.08998081, 0.1125117, 0.10355321, 0.11008145, 0.18182215, 0.189925, 0.11317004, 0.111130886, 0.14156461, 0.1635486, 0.18285272, 0.20964214, inf, 0.15075697, inf, inf, inf, inf, 0.13566637, 0.14989465, 0.16711865, 0.14375073, 0.25126302, 0.17715478, 0.13777894]\n"
     ]
    },
    {
     "ename": "KeyboardInterrupt",
     "evalue": "",
     "output_type": "error",
     "traceback": [
      "\u001b[1;31m---------------------------------------------------------------------------\u001b[0m",
      "\u001b[1;31mKeyboardInterrupt\u001b[0m                         Traceback (most recent call last)",
      "Cell \u001b[1;32mIn[4], line 32\u001b[0m\n\u001b[0;32m     29\u001b[0m         \u001b[38;5;28mprint\u001b[39m(\u001b[38;5;124mf\u001b[39m\u001b[38;5;124m\"\u001b[39m\u001b[38;5;124mFailed to load image: \u001b[39m\u001b[38;5;132;01m{\u001b[39;00mimg_path\u001b[38;5;132;01m}\u001b[39;00m\u001b[38;5;124m. Skipping.\u001b[39m\u001b[38;5;124m\"\u001b[39m)\n\u001b[0;32m     30\u001b[0m         \u001b[38;5;28;01mcontinue\u001b[39;00m\n\u001b[1;32m---> 32\u001b[0m     kl_div \u001b[38;5;241m=\u001b[39m \u001b[43mKL\u001b[49m\u001b[38;5;241;43m.\u001b[39;49m\u001b[43mcompute_kl_divergence\u001b[49m\u001b[43m(\u001b[49m\u001b[43mref_image\u001b[49m\u001b[43m,\u001b[49m\u001b[43m \u001b[49m\u001b[43mdrone_image\u001b[49m\u001b[43m)\u001b[49m\n\u001b[0;32m     33\u001b[0m     kl_divergences\u001b[38;5;241m.\u001b[39mappend(kl_div)\n\u001b[0;32m     34\u001b[0m \u001b[38;5;28mprint\u001b[39m(kl_divergences)\n",
      "File \u001b[1;32mc:\\Users\\jessi\\Documents\\research\\image_metrics\\kldivergence.py:7\u001b[0m, in \u001b[0;36mcompute_kl_divergence\u001b[1;34m(img1, img2)\u001b[0m\n\u001b[0;32m      4\u001b[0m \u001b[38;5;28;01mdef\u001b[39;00m \u001b[38;5;21mcompute_kl_divergence\u001b[39m(img1, img2):\n\u001b[0;32m      5\u001b[0m    \u001b[38;5;66;03m# Convert images to grayscale\u001b[39;00m\n\u001b[0;32m      6\u001b[0m    img1_gray \u001b[38;5;241m=\u001b[39m cv2\u001b[38;5;241m.\u001b[39mcvtColor(img1, cv2\u001b[38;5;241m.\u001b[39mCOLOR_BGR2GRAY)\n\u001b[1;32m----> 7\u001b[0m    img2_gray \u001b[38;5;241m=\u001b[39m \u001b[43mcv2\u001b[49m\u001b[38;5;241;43m.\u001b[39;49m\u001b[43mcvtColor\u001b[49m\u001b[43m(\u001b[49m\u001b[43mimg2\u001b[49m\u001b[43m,\u001b[49m\u001b[43m \u001b[49m\u001b[43mcv2\u001b[49m\u001b[38;5;241;43m.\u001b[39;49m\u001b[43mCOLOR_BGR2GRAY\u001b[49m\u001b[43m)\u001b[49m\n\u001b[0;32m      9\u001b[0m    \u001b[38;5;66;03m# Calculate histograms\u001b[39;00m\n\u001b[0;32m     10\u001b[0m    hist1 \u001b[38;5;241m=\u001b[39m cv2\u001b[38;5;241m.\u001b[39mcalcHist([img1_gray], [\u001b[38;5;241m0\u001b[39m], \u001b[38;5;28;01mNone\u001b[39;00m, [\u001b[38;5;241m256\u001b[39m], [\u001b[38;5;241m0\u001b[39m, \u001b[38;5;241m256\u001b[39m])\n",
      "\u001b[1;31mKeyboardInterrupt\u001b[0m: "
     ]
    }
   ],
   "source": [
    "satellite_dir = \"University-Release/train/satellite\"\n",
    "drone_dir = \"University-Release/train/drone\"\n",
    "output_folder = \"plots/kldivergence\"\n",
    "\n",
    "if not os.path.exists(output_folder):\n",
    "    os.makedirs(output_folder)\n",
    "\n",
    "# Create KL Divergence map\n",
    "kl_divergence_map = {}\n",
    "\n",
    "for dataset in os.listdir(satellite_dir):\n",
    "    satellite_path = os.path.join(satellite_dir, dataset, f\"{dataset}.jpg\")\n",
    "    folder_path = os.path.join(drone_dir, dataset)\n",
    "    \n",
    "    if not os.path.exists(satellite_path):\n",
    "        print(f\"Reference satellite image for {dataset} not found. Skipping.\")\n",
    "        continue\n",
    "    \n",
    "    ref_image = cv2.imread(satellite_path)\n",
    "    if ref_image is None:\n",
    "        print(f\"Failed to load satellite image: {satellite_path}. Skipping.\")\n",
    "        continue\n",
    "\n",
    "    kl_divergences = []\n",
    "    for img_name in os.listdir(folder_path):\n",
    "        img_path = os.path.join(folder_path, img_name)\n",
    "        drone_image = cv2.imread(img_path)\n",
    "        if drone_image is None:\n",
    "            print(f\"Failed to load image: {img_path}. Skipping.\")\n",
    "            continue\n",
    "\n",
    "        kl_div = KL.compute_kl_divergence(ref_image, drone_image)\n",
    "        kl_divergences.append(kl_div)\n",
    "    print(kl_divergences)\n",
    "    kl_divergence_map[dataset] = kl_divergences\n",
    "\n",
    "    # # Plot and save histogram\n",
    "    # plt.figure(figsize=(8, 6))\n",
    "    # plt.hist(kl_divergences, bins=20, color='skyblue', edgecolor='black')\n",
    "    # plt.title(f'KL Divergence: Satellite vs. Drone Images ({dataset})')\n",
    "    # plt.xlabel('KL Divergence')\n",
    "    # plt.ylabel('Frequency')\n",
    "    # plt.grid(alpha=0.5)\n",
    "\n",
    "    # output_path = os.path.join(output_folder, f\"{dataset}_kldivergence.png\")\n",
    "    # plt.savefig(output_path, dpi=300)\n",
    "    # print(f\"KL Divergence plot saved to {output_path}\")\n",
    "    # plt.close()\n"
   ]
  }
 ],
 "metadata": {
  "kernelspec": {
   "display_name": "Python 3",
   "language": "python",
   "name": "python3"
  },
  "language_info": {
   "codemirror_mode": {
    "name": "ipython",
    "version": 3
   },
   "file_extension": ".py",
   "mimetype": "text/x-python",
   "name": "python",
   "nbconvert_exporter": "python",
   "pygments_lexer": "ipython3",
   "version": "3.12.4"
  }
 },
 "nbformat": 4,
 "nbformat_minor": 2
}
